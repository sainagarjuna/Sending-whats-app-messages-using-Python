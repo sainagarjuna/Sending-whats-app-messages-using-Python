{
 "cells": [
  {
   "cell_type": "code",
   "execution_count": null,
   "id": "bd0d06db",
   "metadata": {},
   "outputs": [],
   "source": [
    "import pywhatkit\n",
    "from datetime import datetime\n",
    "\n",
    "now = datetime.now()\n",
    "\n",
    "chour = now.strftime(\"%H\")\n",
    "mobile = input('Enter Mobile No of Receiver : ')\n",
    "message = input('Enter Message you wanna send : ')\n",
    "hour = int(input('Enter hour : '))\n",
    "minute = int(input('Enter minute : '))\n",
    "\n",
    "pywhatkit.sendwhatmsg(mobile,message,hour,minute)"
   ]
  },
  {
   "cell_type": "code",
   "execution_count": null,
   "id": "14640c17",
   "metadata": {},
   "outputs": [],
   "source": []
  }
 ],
 "metadata": {
  "kernelspec": {
   "display_name": "Python 3",
   "language": "python",
   "name": "python3"
  },
  "language_info": {
   "codemirror_mode": {
    "name": "ipython",
    "version": 3
   },
   "file_extension": ".py",
   "mimetype": "text/x-python",
   "name": "python",
   "nbconvert_exporter": "python",
   "pygments_lexer": "ipython3",
   "version": "3.8.8"
  }
 },
 "nbformat": 4,
 "nbformat_minor": 5
}
